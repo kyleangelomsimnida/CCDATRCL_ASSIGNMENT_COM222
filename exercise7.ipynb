{
  "cells": [
    {
      "cell_type": "markdown",
      "metadata": {
        "id": "view-in-github",
        "colab_type": "text"
      },
      "source": [
        "<a href=\"https://colab.research.google.com/github/kyleangelomsimnida/CCDATRCL_ASSIGNMENT_COM222/blob/main/exercise7.ipynb\" target=\"_parent\"><img src=\"https://colab.research.google.com/assets/colab-badge.svg\" alt=\"Open In Colab\"/></a>"
      ]
    },
    {
      "cell_type": "markdown",
      "metadata": {
        "id": "e3Ja3uozAJlw"
      },
      "source": [
        "# Exercise 7"
      ]
    },
    {
      "cell_type": "code",
      "execution_count": 1,
      "metadata": {
        "id": "IW6uTwU8AJly"
      },
      "outputs": [],
      "source": [
        "class Node:\n",
        "    def __init__(self, item):\n",
        "        self.left = None\n",
        "        self.right = None\n",
        "        self.val = item"
      ]
    },
    {
      "cell_type": "code",
      "execution_count": 2,
      "metadata": {
        "id": "uxVFuimIAJlz"
      },
      "outputs": [],
      "source": [
        "def evaluateExpressionTree(root):\n",
        "\n",
        "    # empty tree\n",
        "    if root is None:\n",
        "        return 0\n",
        "\n",
        "    # leaf node\n",
        "    if root.left is None and root.right is None:\n",
        "        return int(root.val)\n",
        "\n",
        "    # evaluate left tree\n",
        "    left_sum = evaluateExpressionTree(root.left)\n",
        "\n",
        "    # evaluate right tree\n",
        "    right_sum = evaluateExpressionTree(root.right)\n",
        "\n",
        "    # check which operation to apply\n",
        "    if root.val == '+':\n",
        "        return left_sum + right_sum\n",
        "\n",
        "    elif root.val == '-':\n",
        "        return left_sum - right_sum\n",
        "\n",
        "    elif root.val == '*':\n",
        "        return left_sum * right_sum\n",
        "\n",
        "    else:\n",
        "        return left_sum // right_sum"
      ]
    },
    {
      "cell_type": "code",
      "execution_count": 3,
      "metadata": {
        "id": "-xWZXA-mAJl0"
      },
      "outputs": [],
      "source": [
        "def inorder(root):\n",
        "\n",
        "    if root:\n",
        "        # Traverse left\n",
        "        inorder(root.left)\n",
        "        # Traverse root\n",
        "        print(str(root.val) + \"->\", end='')\n",
        "        # Traverse right\n",
        "        inorder(root.right)"
      ]
    },
    {
      "cell_type": "markdown",
      "metadata": {
        "id": "CVtqxh5DAJl1"
      },
      "source": [
        "#### 1. Construct a binary expression tree\n",
        "\n",
        "$ (8 + 4) * (7 - 9) $"
      ]
    },
    {
      "cell_type": "code",
      "execution_count": 5,
      "metadata": {
        "id": "CxpP0zcVAJl1"
      },
      "outputs": [],
      "source": [
        "# put your answer here\n",
        "root = Node(\"*\")\n",
        "node1 = Node(\"+\")\n",
        "node2 = Node(\"-\")\n",
        "node3 = Node(\"8\")\n",
        "node4 = Node(\"4\")\n",
        "node5 = Node(\"7\")\n",
        "node6 = Node(\"9\")\n",
        "\n",
        "root.left = node1\n",
        "node1.left = node3\n",
        "node1.right = node4\n",
        "root.right = node2\n",
        "node2.left = node5\n",
        "node2.right = node6"
      ]
    },
    {
      "cell_type": "code",
      "source": [
        "evaluateExpressionTree(root)"
      ],
      "metadata": {
        "id": "Aaxey1hvDszN",
        "outputId": "70164958-7c90-446f-fe79-8db305e3c151",
        "colab": {
          "base_uri": "https://localhost:8080/"
        }
      },
      "execution_count": 6,
      "outputs": [
        {
          "output_type": "execute_result",
          "data": {
            "text/plain": [
              "-24"
            ]
          },
          "metadata": {},
          "execution_count": 6
        }
      ]
    },
    {
      "cell_type": "code",
      "source": [
        "inorder(root)"
      ],
      "metadata": {
        "id": "tOY1YxumE0D0",
        "outputId": "b7b11402-9be1-44d2-c352-a5fb53c3acf8",
        "colab": {
          "base_uri": "https://localhost:8080/"
        }
      },
      "execution_count": 7,
      "outputs": [
        {
          "output_type": "stream",
          "name": "stdout",
          "text": [
            "8->+->4->*->7->-->9->"
          ]
        }
      ]
    },
    {
      "cell_type": "markdown",
      "metadata": {
        "id": "jc5KHLk6AJl2"
      },
      "source": [
        "#### 2. Construct a binary expression tree\n",
        "\n",
        "$ 5 / 8 + 3 - 6 * 1 $"
      ]
    },
    {
      "cell_type": "code",
      "execution_count": 14,
      "metadata": {
        "id": "XORzqkC3AJl2"
      },
      "outputs": [],
      "source": [
        "# put your answer here\n",
        "root = Node(\"-\")\n",
        "node1 = Node(\"+\")\n",
        "node2 = Node(\"%\")\n",
        "node3 = Node(\"*\")\n",
        "node4 = Node(\"5\")\n",
        "node5 = Node(\"8\")\n",
        "node6 = Node(\"3\")\n",
        "node7 = Node(\"6\")\n",
        "node8 = Node(\"1\")\n",
        "\n",
        "root.left = node1\n",
        "node1.left = node2\n",
        "node1.right = node6\n",
        "node2.left = node4\n",
        "node2.right = node5\n",
        "root.right = node3\n",
        "node3.left = node7\n",
        "node3.right = node8\n",
        "\n"
      ]
    },
    {
      "cell_type": "code",
      "source": [
        "evaluateExpressionTree(root)"
      ],
      "metadata": {
        "id": "t7jeAvh1GxIH",
        "outputId": "6c51becc-94c5-4fa8-84b8-5064b469bee8",
        "colab": {
          "base_uri": "https://localhost:8080/"
        }
      },
      "execution_count": 15,
      "outputs": [
        {
          "output_type": "execute_result",
          "data": {
            "text/plain": [
              "-3"
            ]
          },
          "metadata": {},
          "execution_count": 15
        }
      ]
    },
    {
      "cell_type": "code",
      "source": [
        "inorder(root)"
      ],
      "metadata": {
        "id": "WMmli142Gyi5",
        "outputId": "2c9a85ce-9a7b-44ca-83b9-2055ed65d90f",
        "colab": {
          "base_uri": "https://localhost:8080/"
        }
      },
      "execution_count": 16,
      "outputs": [
        {
          "output_type": "stream",
          "name": "stdout",
          "text": [
            "5->%->8->+->3->-->6->*->1->"
          ]
        }
      ]
    },
    {
      "cell_type": "markdown",
      "metadata": {
        "id": "tu3n5ZdWAJl2"
      },
      "source": [
        "#### 3. Construct a binary expression tree\n",
        "\n",
        "$ ((2 + 5) / 3)- (3 + 8) $"
      ]
    },
    {
      "cell_type": "code",
      "execution_count": 17,
      "metadata": {
        "id": "5GvZBxgtAJl3"
      },
      "outputs": [],
      "source": [
        "# put your answer here\n",
        "root = Node(\"-\")\n",
        "node1 = Node(\"%\")\n",
        "node2 = Node(\"+\")\n",
        "node3 = Node(\"+\")\n",
        "node4 = Node(\"2\")\n",
        "node5 = Node(\"5\")\n",
        "node6 = Node(\"3\")\n",
        "node7 = Node(\"3\")\n",
        "node8 = Node(\"8\")\n",
        "\n",
        "root.left = node1\n",
        "node1.left = node2\n",
        "node1.right = node6\n",
        "node2.left = node4\n",
        "node2.right = node5\n",
        "root.right = node3\n",
        "node3.left = node7\n",
        "node3.right = node8"
      ]
    },
    {
      "cell_type": "code",
      "source": [
        "evaluateExpressionTree(root)"
      ],
      "metadata": {
        "id": "IUVJb40IGzX3",
        "outputId": "6e531510-ebd9-4a65-99b7-050479e349bc",
        "colab": {
          "base_uri": "https://localhost:8080/"
        }
      },
      "execution_count": 18,
      "outputs": [
        {
          "output_type": "execute_result",
          "data": {
            "text/plain": [
              "-9"
            ]
          },
          "metadata": {},
          "execution_count": 18
        }
      ]
    },
    {
      "cell_type": "code",
      "source": [
        "inorder(root)"
      ],
      "metadata": {
        "id": "oR89rqhsG0AO",
        "outputId": "99cc41f7-fdd3-4643-965b-5e039c8f8acc",
        "colab": {
          "base_uri": "https://localhost:8080/"
        }
      },
      "execution_count": 19,
      "outputs": [
        {
          "output_type": "stream",
          "name": "stdout",
          "text": [
            "2->+->5->%->3->-->3->+->8->"
          ]
        }
      ]
    }
  ],
  "metadata": {
    "kernelspec": {
      "display_name": "Python 3",
      "language": "python",
      "name": "python3"
    },
    "language_info": {
      "codemirror_mode": {
        "name": "ipython",
        "version": 3
      },
      "file_extension": ".py",
      "mimetype": "text/x-python",
      "name": "python",
      "nbconvert_exporter": "python",
      "pygments_lexer": "ipython3",
      "version": "3.11.4"
    },
    "orig_nbformat": 4,
    "colab": {
      "provenance": [],
      "include_colab_link": true
    }
  },
  "nbformat": 4,
  "nbformat_minor": 0
}